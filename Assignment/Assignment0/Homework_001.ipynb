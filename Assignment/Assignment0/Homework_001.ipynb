{
 "cells": [
  {
   "cell_type": "markdown",
   "metadata": {
    "deletable": false,
    "editable": false,
    "nbgrader": {
     "checksum": "0bc8e364aa9f3c3cc78d6df56d157f1a",
     "grade": false,
     "grade_id": "cell-58b3d37e9bd499d5",
     "locked": true,
     "schema_version": 1,
     "solution": false
    }
   },
   "source": [
    "## Problem 1: De-duplicate a list"
   ]
  },
  {
   "cell_type": "markdown",
   "metadata": {
    "deletable": false,
    "editable": false,
    "nbgrader": {
     "checksum": "876821dec1be1123d8ea71c8e31f1c0e",
     "grade": false,
     "grade_id": "cell-53580ec630f0e252",
     "locked": true,
     "schema_version": 1,
     "solution": false
    }
   },
   "source": [
    "Given the following list,\n",
    "\n",
    "    data=[5,4,6,1,9,0,3,9,2,7,10,8,4,7,1,2,7,6,5,2,8,2,0,1,1,1,2,10,6,2]\n",
    "\n",
    "remove all the duplicated elements from this list. Note that the **order is preserved.** The order proceeds from smallest list index to greatest (i.e., from left-to-right)."
   ]
  },
  {
   "cell_type": "code",
   "execution_count": 1,
   "metadata": {
    "deletable": false,
    "nbgrader": {
     "checksum": "a2c6091f86c6067a52720d22b8e4647d",
     "grade": false,
     "grade_id": "cell-c4e635caf51a3066",
     "locked": false,
     "schema_version": 1,
     "solution": true
    }
   },
   "outputs": [],
   "source": [
    "def uniq(input):\n",
    "    '''\n",
    "    this function remove all the duplicated elements from the input list\n",
    "    inputs: input: an integer list\n",
    "    '''\n",
    "    output = []\n",
    "    for i in input:\n",
    "        if i not in output:\n",
    "            output.append(i)\n",
    "    return output\n",
    "    \n",
    "\n",
    "data=[5,4,6,1,9,0,3,9,2,7,10,8,4,7,1,2,7,6,5,2,8,2,0,1,1,1,2,10,6,2]\n",
    "\n",
    "answer = uniq(data) "
   ]
  },
  {
   "cell_type": "code",
   "execution_count": 2,
   "metadata": {
    "deletable": false,
    "editable": false,
    "nbgrader": {
     "checksum": "5d30bf7907b40f1e9b1ada59727b1694",
     "grade": true,
     "grade_id": "cell-963123c9c0289538",
     "locked": true,
     "points": 5,
     "schema_version": 1,
     "solution": false
    }
   },
   "outputs": [],
   "source": [
    "assert answer == [5,4,6,1,9,0,3,2,7,10,8]"
   ]
  },
  {
   "cell_type": "markdown",
   "metadata": {
    "deletable": false,
    "editable": false,
    "nbgrader": {
     "checksum": "b726b80a6b839de92994aade541541ff",
     "grade": false,
     "grade_id": "cell-f63655ee6ea79e2d",
     "locked": true,
     "schema_version": 1,
     "solution": false
    }
   },
   "source": [
    "## Problem 2: Compute the sum"
   ]
  },
  {
   "cell_type": "markdown",
   "metadata": {
    "deletable": false,
    "editable": false,
    "nbgrader": {
     "checksum": "2e22c79db15929edd78c6ff23929b093",
     "grade": false,
     "grade_id": "cell-c64a9c7083841a11",
     "locked": true,
     "schema_version": 1,
     "solution": false
    }
   },
   "source": [
    "Write a function that computes the sum of all non-negative integers (i.e. >=0) up to\n",
    "and including a specified value, `n`.\n",
    "\n",
    "**Hint**: Remember to use all the input/output validation checking techniques we discussed."
   ]
  },
  {
   "cell_type": "code",
   "execution_count": 3,
   "metadata": {
    "deletable": false,
    "nbgrader": {
     "checksum": "a3c14295ce82b9ade1a83e9629e73788",
     "grade": false,
     "grade_id": "cell-29d29d5b671acb58",
     "locked": false,
     "schema_version": 1,
     "solution": true
    }
   },
   "outputs": [],
   "source": [
    "def compute_sum_to_n(n):\n",
    "    '''\n",
    "    this function computes the sum of all non-negative integers up to and including a specified value n\n",
    "    inputs: n: a non-negative integer number\n",
    "    '''\n",
    "    sum = 0\n",
    "    i = 1\n",
    "    while i <= n:\n",
    "        sum += i\n",
    "        i += 1\n",
    "        \n",
    "    return sum"
   ]
  },
  {
   "cell_type": "code",
   "execution_count": null,
   "metadata": {
    "deletable": false,
    "editable": false,
    "nbgrader": {
     "checksum": "de9638dd267235c6bd2b9025a7d68280",
     "grade": true,
     "grade_id": "cell-76fa0090a0c926ab",
     "locked": true,
     "points": 2,
     "schema_version": 1,
     "solution": false
    }
   },
   "outputs": [],
   "source": []
  },
  {
   "cell_type": "code",
   "execution_count": null,
   "metadata": {
    "deletable": false,
    "editable": false,
    "nbgrader": {
     "checksum": "6d3523f52c84f58bd2fe787824a02e1d",
     "grade": true,
     "grade_id": "cell-8323d03ae4e1aad1",
     "locked": true,
     "points": 2,
     "schema_version": 1,
     "solution": false
    }
   },
   "outputs": [],
   "source": []
  },
  {
   "cell_type": "code",
   "execution_count": 4,
   "metadata": {
    "deletable": false,
    "editable": false,
    "nbgrader": {
     "checksum": "6d002cda3e0121c4e9e1bd84c0fde9c8",
     "grade": true,
     "grade_id": "cell-8ee2897af4252472",
     "locked": true,
     "points": 2,
     "schema_version": 1,
     "solution": false
    }
   },
   "outputs": [],
   "source": [
    "assert len(compute_sum_to_n.__doc__)"
   ]
  },
  {
   "cell_type": "markdown",
   "metadata": {},
   "source": [
    "## Problem 3: All sublists"
   ]
  },
  {
   "cell_type": "markdown",
   "metadata": {
    "deletable": false,
    "editable": false,
    "nbgrader": {
     "checksum": "905428a02f676ceb2e6e7c68326f56aa",
     "grade": false,
     "grade_id": "cell-55626278c17276e7",
     "locked": true,
     "schema_version": 1,
     "solution": false
    }
   },
   "source": [
    "Generate all sublists of a list. Note there will be `2**len(x)` subsets of the\n",
    "list x. For example, the list `[0,1,2]` has seven sublists:\n",
    "`[[0],[1],[2],[0,1],[1,2],[0,2],[0,1,2]]`. Note that you don't have to mind the\n",
    "ordering of each sublist.  Also, we don't care about the empty list (`[]`). The\n",
    "function should accept input consisting of only a list of **unique** items.\n",
    "\n",
    "* Hint: use recursion.\n",
    "* Hint: You probably want to use `list` instead of `set`.\n",
    "\n",
    "Here is the output of `all_sublists(range(4))`:\n",
    "\n",
    "    [[0],\n",
    "     [1],\n",
    "     [2],\n",
    "     [3],\n",
    "     [2, 3],\n",
    "     [1, 2],\n",
    "     [1, 3],\n",
    "     [1, 2, 3],\n",
    "     [0, 1],\n",
    "     [0, 2],\n",
    "     [0, 3],\n",
    "     [0, 2, 3],\n",
    "     [0, 1, 2],\n",
    "     [0, 1, 3],\n",
    "     [0, 1, 2, 3]]"
   ]
  },
  {
   "cell_type": "code",
   "execution_count": 5,
   "metadata": {
    "deletable": false,
    "nbgrader": {
     "checksum": "1edd12070315d67b269de1071fbb6ab5",
     "grade": false,
     "grade_id": "cell-8d4d4b4a52f1bf1e",
     "locked": false,
     "schema_version": 1,
     "solution": true
    }
   },
   "outputs": [],
   "source": [
    "# from itertools import chain, combinations\n",
    "def all_sublists(x):\n",
    "    '''\n",
    "    this function generates all sublists of a list except the empty sublist.\n",
    "    inputs: x: a list that should only consists of unique items\n",
    "    '''\n",
    "    assert isinstance(x,list)\n",
    "    assert len(x) == len(set(x))\n",
    "    \n",
    "    if x == []:\n",
    "        return [x]\n",
    "\n",
    "    sub = all_sublists(x[1:])\n",
    "\n",
    "    return sub+[[x[0]]+i for i in sub]\n",
    "    \n",
    "#   return chain.from_iterable(combinations(x,n) for n in range(len(x)+1))"
   ]
  },
  {
   "cell_type": "code",
   "execution_count": 6,
   "metadata": {
    "deletable": false,
    "editable": false,
    "nbgrader": {
     "checksum": "2409a5cae1e8f9990ea5f1908999a64a",
     "grade": true,
     "grade_id": "cell-cfefcb73cddb53fc",
     "locked": true,
     "points": 20,
     "schema_version": 1,
     "solution": false
    }
   },
   "outputs": [],
   "source": [
    "### BEGIN  TESTS\n",
    "\n",
    "ans = [[3], [2], [0], [2, 0], [3, 2], [3, 0], [3, 2, 0]]\n",
    "assert 0 == len(set(map(frozenset,ans)) - set(map(frozenset,all_sublists([3,0,2]))))\n",
    "ans = [[1], ['a'], [3], ['a', 3], [1, 'a'], [1, 3], [1, 'a', 3]]\n",
    "assert 0 == len(set(map(frozenset,ans)) - set(map(frozenset,all_sublists([1,3,'a']))))\n",
    "\n",
    "### END  TESTS"
   ]
  },
  {
   "cell_type": "code",
   "execution_count": 7,
   "metadata": {
    "deletable": false,
    "editable": false,
    "nbgrader": {
     "checksum": "a0eca99ea2593aedf42b084a21469862",
     "grade": true,
     "grade_id": "cell-9d78fb31701077c6",
     "locked": true,
     "points": 3,
     "schema_version": 1,
     "solution": false
    }
   },
   "outputs": [],
   "source": [
    "import pytest\n",
    "with pytest.raises(AssertionError):\n",
    "    all_sublists(3)"
   ]
  },
  {
   "cell_type": "code",
   "execution_count": 8,
   "metadata": {
    "deletable": false,
    "editable": false,
    "nbgrader": {
     "checksum": "adacce37d1ec48030565135c4af91f98",
     "grade": true,
     "grade_id": "cell-9d78fb31701077c5",
     "locked": true,
     "points": 3,
     "schema_version": 1,
     "solution": false
    }
   },
   "outputs": [],
   "source": [
    "with pytest.raises(AssertionError):\n",
    "    all_sublists([1,1])\n"
   ]
  },
  {
   "cell_type": "code",
   "execution_count": 9,
   "metadata": {
    "deletable": false,
    "editable": false,
    "nbgrader": {
     "checksum": "c3e4c730862781c826797c9a8c1c50a4",
     "grade": true,
     "grade_id": "cell-c4fa5bbf21333553",
     "locked": true,
     "points": 3,
     "schema_version": 1,
     "solution": false
    }
   },
   "outputs": [],
   "source": [
    "assert len(all_sublists.__doc__)"
   ]
  }
 ],
 "metadata": {
  "kernelspec": {
   "display_name": "Python 3",
   "language": "python",
   "name": "python3"
  },
  "language_info": {
   "codemirror_mode": {
    "name": "ipython",
    "version": 3
   },
   "file_extension": ".py",
   "mimetype": "text/x-python",
   "name": "python",
   "nbconvert_exporter": "python",
   "pygments_lexer": "ipython3",
   "version": "3.6.3"
  }
 },
 "nbformat": 4,
 "nbformat_minor": 2
}
