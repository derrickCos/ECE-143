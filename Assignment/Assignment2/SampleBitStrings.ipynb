{
 "cells": [
  {
   "cell_type": "markdown",
   "metadata": {},
   "source": [
    "## Problem: Random samples for a finite  population of bitstrings\n",
    "\n",
    "Given a number of bits, write the `get_sample` function to return a list `n` of random samples from a finite probability mass function defined by a dictionary with keys defined by a specified number of bits. For example, given `3` bits, we have the following dictionary that defines the probability of each of the keys,\n",
    "\n",
    "    ['000', '001', '010', '011', '100', '101', '110', '111']\n",
    "\n",
    "The values of the dictionary correspond of the probability of drawing any one of these. For example, if all of these were equally likely, then here is the corresponding dictionary `p`,\n",
    "\n",
    "    p={'000': 0.125,\n",
    "     '001': 0.125,\n",
    "     '010': 0.125,\n",
    "     '011': 0.125,\n",
    "     '100': 0.125,\n",
    "     '101': 0.125,\n",
    "     '110': 0.125,\n",
    "     '111': 0.125}\n",
    " \n",
    " \n",
    " Your `get_sample` function should return something like the following,\n",
    " \n",
    "     >>> get_sample(nbits=3,prob=p,n=4)\n",
    "     ['101', '000', '001', '100']\n",
    " \n",
    "**Hint**: Validate your inputs thoroughly. "
   ]
  },
  {
   "cell_type": "code",
   "execution_count": 1,
   "metadata": {},
   "outputs": [],
   "source": [
    "import numpy as np\n",
    "import itertools\n",
    "import math"
   ]
  },
  {
   "cell_type": "code",
   "execution_count": 2,
   "metadata": {
    "deletable": false,
    "nbgrader": {
     "checksum": "1ec5e430f4ca311b43466be9680d2bfc",
     "grade": false,
     "grade_id": "cell-121c40bb8ea31ba8",
     "locked": false,
     "schema_version": 1,
     "solution": true
    }
   },
   "outputs": [
    {
     "data": {
      "text/plain": [
       "['100', '010', '111', '010']"
      ]
     },
     "execution_count": 2,
     "metadata": {},
     "output_type": "execute_result"
    }
   ],
   "source": [
    "def get_sample(nbits=3,prob=None,n=1):\n",
    "    '''\n",
    "    Given a number of bits, generate a n-sampled list with the given probability.\n",
    "    \n",
    "    :param: nbits \n",
    "    :type : int\n",
    "    :param: prob\n",
    "    :type:  dict\n",
    "    :param: n\n",
    "    :type:  int    \n",
    "    '''\n",
    "    assert isinstance(nbits,int)\n",
    "    assert isinstance(prob,dict)\n",
    "    assert isinstance(n,int)\n",
    "    assert nbits>0\n",
    "    assert n>0\n",
    "    \n",
    "    bitstrings = [\"\".join(seq) for seq in itertools.product(\"01\", repeat=nbits)]\n",
    "    #print(bitstrings)\n",
    "    \n",
    "    key = list(prob.keys())\n",
    "    #print(key)\n",
    "    \n",
    "    assert len(key) == len(bitstrings)\n",
    "    assert set(key) == set(bitstrings)\n",
    "    \n",
    "    value = list(prob.values())\n",
    "    #print(sum(value))\n",
    "    \n",
    "    assert sum(value) == 1\n",
    "    \n",
    "    sample = np.random.choice(key,n,p=value)\n",
    "    return list(sample)\n",
    "    \n",
    "    \n",
    "p={'000': 0.125, '001': 0.125, '010': 0.125, '011': 0.125, '100': 0.125, '101': 0.125, '110': 0.125, '111': 0.125}\n",
    "get_sample(nbits=3,prob=p,n=4) "
   ]
  },
  {
   "cell_type": "code",
   "execution_count": null,
   "metadata": {
    "deletable": false,
    "editable": false,
    "nbgrader": {
     "checksum": "85b70cd278598174aa79342eafad9ae9",
     "grade": true,
     "grade_id": "cell-ae8068b57cee1249",
     "locked": true,
     "points": 20,
     "schema_version": 1,
     "solution": false
    }
   },
   "outputs": [],
   "source": []
  },
  {
   "cell_type": "code",
   "execution_count": null,
   "metadata": {
    "deletable": false,
    "editable": false,
    "nbgrader": {
     "checksum": "f0892f142fc0c291f3cd4f8f3303f32e",
     "grade": true,
     "grade_id": "cell-1d6056c5502e6e7d",
     "locked": true,
     "points": 10,
     "schema_version": 1,
     "solution": false
    }
   },
   "outputs": [],
   "source": []
  },
  {
   "cell_type": "markdown",
   "metadata": {},
   "source": [
    "## Map bitstrings \n",
    "\n",
    "Write a function `map_bitstring` that takes a list of bitstrings (i.e., `0101`) and maps each bitstring to `0` if the number of `0`s in the bitstring strictly exceeds the number of `1`s. Otherwise, map that bitstring to `1`. The output of your function is a dictionary of the so-described key-value pairs.\n",
    "\n",
    "Here is an example:\n",
    "\n",
    "    >>> x= ['100', '100', '110', '010', '111', '000', '110', '010', '011', '000']\n",
    "    >>> map_bitstring(x)\n",
    "    {'100': 0, '110': 1, '010': 0, '111': 1, '000': 0, '011': 1}\n"
   ]
  },
  {
   "cell_type": "code",
   "execution_count": 3,
   "metadata": {
    "deletable": false,
    "nbgrader": {
     "checksum": "587331e638df4390dd0c701451280b93",
     "grade": false,
     "grade_id": "cell-4c1147dae8e5c76c",
     "locked": false,
     "schema_version": 1,
     "solution": true
    }
   },
   "outputs": [
    {
     "data": {
      "text/plain": [
       "{'111': 1, '000': 0, '100': 0, '010': 0, '110': 1, '011': 1}"
      ]
     },
     "execution_count": 3,
     "metadata": {},
     "output_type": "execute_result"
    }
   ],
   "source": [
    "def map_bitstring(instrings):\n",
    "    '''\n",
    "    Given a list of bitstrings, generate the corresponding map bitstrings.\n",
    "    \n",
    "    :param: instrings \n",
    "    :type : list\n",
    "    '''\n",
    "    assert isinstance(instrings,list)\n",
    "    assert all(isinstance(x,str) for x in instrings)\n",
    "    \n",
    "    nbits = len(instrings[0])\n",
    "    bitstrings = [\"\".join(seq) for seq in itertools.product(\"01\", repeat=nbits)]\n",
    "    \n",
    "    assert set(instrings).issubset(set(bitstrings))\n",
    "    \n",
    "    instr = list(set(instrings))\n",
    "    \n",
    "    map_dict = {}\n",
    "    for s in instr:\n",
    "        if s.count('0')>s.count('1'):\n",
    "            map_dict[s] = 0\n",
    "        else:\n",
    "            map_dict[s] = 1\n",
    "    \n",
    "    return map_dict\n",
    "\n",
    "\n",
    "x= ['100', '100', '110', '010', '111', '000', '110', '010', '011', '000']\n",
    "map_bitstring(x)"
   ]
  },
  {
   "cell_type": "code",
   "execution_count": null,
   "metadata": {
    "deletable": false,
    "editable": false,
    "nbgrader": {
     "checksum": "9b451b7c76c6a54e80ee897715a113d1",
     "grade": true,
     "grade_id": "cell-c4c575d42fd41018",
     "locked": true,
     "points": 20,
     "schema_version": 1,
     "solution": false
    }
   },
   "outputs": [],
   "source": []
  },
  {
   "cell_type": "code",
   "execution_count": null,
   "metadata": {
    "deletable": false,
    "editable": false,
    "nbgrader": {
     "checksum": "1d34f56a57d003cdd8ea81c55ed940c7",
     "grade": true,
     "grade_id": "cell-308663750996402d",
     "locked": true,
     "points": 10,
     "schema_version": 1,
     "solution": false
    }
   },
   "outputs": [],
   "source": []
  },
  {
   "cell_type": "markdown",
   "metadata": {},
   "source": [
    "## Gather by values \n",
    "\n",
    "Now that you have `get_sample` working, generate `n` samples and tally the number of times an existing key is repeated. Generate a new dictionary with bitstrings as keys and with values as lists that contain the corresponding mapped values from `map_bitstring`. Here is an example for  `n=20`,\n",
    "\n",
    "    >>> x=get_sample(nbits=2,prob={'00':1/4,'01':1/4,'10':1/4,'11':1/4},n=20)\n",
    "    >>> print(x)\n",
    "    ['10', '11', '01', '00', '10', '00', '00', '11', '10', '00', '00', '01', '01', '11', '10', '00', '11', '10', '11', '11']\n",
    "\n",
    "Write a function `gather_values` that can produce the following output from `x`:\n",
    "\n",
    "    {'10': [1, 1, 1, 1, 1],\n",
    "     '11': [1, 1, 1, 1, 1, 1],\n",
    "     '01': [1, 1, 1],\n",
    "     '00': [0, 0, 0, 0, 0, 0]}"
   ]
  },
  {
   "cell_type": "code",
   "execution_count": 4,
   "metadata": {
    "deletable": false,
    "nbgrader": {
     "checksum": "fea313b15b4357a54417db363779c65c",
     "grade": false,
     "grade_id": "cell-f3fba48fbe2bd34e",
     "locked": false,
     "schema_version": 1,
     "solution": true
    }
   },
   "outputs": [
    {
     "data": {
      "text/plain": [
       "{'00': [0, 0, 0, 0, 0, 0],\n",
       " '11': [1, 1, 1, 1, 1, 1],\n",
       " '01': [1, 1, 1],\n",
       " '10': [1, 1, 1, 1, 1]}"
      ]
     },
     "execution_count": 4,
     "metadata": {},
     "output_type": "execute_result"
    }
   ],
   "source": [
    "def gather_values(seq):\n",
    "    '''\n",
    "    Given a list of bitstrings, generate a dictionary with bitstrings as keys and with values as lists \n",
    "    that contain the corresponding mapped values.\n",
    "    \n",
    "    :param: seq \n",
    "    :type : list\n",
    "    '''\n",
    "    assert isinstance(seq,list)\n",
    "    assert all(isinstance(x,str) for x in seq)\n",
    "    \n",
    "    nbits = len(seq[0])\n",
    "    bitstrings = [\"\".join(s) for s in itertools.product(\"01\", repeat=nbits)]\n",
    "    \n",
    "    assert set(seq).issubset(set(bitstrings))\n",
    "    \n",
    "    map_dict = map_bitstring(seq)\n",
    "    \n",
    "    map_tally = {}\n",
    "    l = list(set(seq))\n",
    "    for s in l:\n",
    "        map_tally[s] = []\n",
    "        \n",
    "    for s in seq:\n",
    "        map_tally[s].append(map_dict.get(s))\n",
    "        \n",
    "    return map_tally\n",
    "    \n",
    "    \n",
    "x = ['10', '11', '01', '00', '10', '00', '00', '11', '10', '00', '00', '01', '01', '11', '10', '00', '11', '10', '11', '11']\n",
    "gather_values(x)"
   ]
  },
  {
   "cell_type": "code",
   "execution_count": null,
   "metadata": {
    "deletable": false,
    "editable": false,
    "nbgrader": {
     "checksum": "bc61a5ce7d453b3e54f15d3f5e08314c",
     "grade": true,
     "grade_id": "cell-a9088c90c9f3ad88",
     "locked": true,
     "points": 20,
     "schema_version": 1,
     "solution": false
    }
   },
   "outputs": [],
   "source": []
  },
  {
   "cell_type": "markdown",
   "metadata": {},
   "source": [
    "## Threshold sample counts\n",
    "\n",
    "From `gather_values`, we can group the results of the random samples. Now, we want to threshold those values based upon their frequency and value. Given `threshold=2`, we want to keep only those bitstrings with the two highest frequency counts of the `1` value. For example, as before we have,\n",
    "\n",
    "    x=['10', '11', '01', '00', '10', '00', '00', '11', '10', '00', '00', '01', '01', '11', '10', '00', '11', '10', '11', '11']\n",
    "    \n",
    "according to our last result, we had \n",
    "\n",
    "    {'10': [1, 1, 1, 1, 1],\n",
    "     '11': [1, 1, 1, 1, 1, 1],\n",
    "     '01': [1, 1, 1],\n",
    "     '00': [0, 0, 0, 0, 0, 0]}\n",
    "\n",
    "But because the `threshold=2`, we only want to keep the bitstrings with the two most frequent `1`s and set all of the rest to `0`. In this case, this is `10` and `11` with the following output:\n",
    "\n",
    "    {'10': 1,\n",
    "     '11': 1,\n",
    "     '01': 0,\n",
    "     '00': 0}\n",
    "    \n",
    "Note that `01` corresponding value was set to `0` because it did not have the top two most frequent values of `1`. If there is a tie, then use the smallest value the tied bitstrings to pick the winner. Here is a more detailed example:\n",
    "\n",
    "    x= ['1111', '0110', '1001', '0011', '0111', '0100', '0111', '1100', '0011', '0010', '0010', '1010', '1010', '1100', '0110', '0101', '0110', '1111', '1001', '0110', '0010', '1101', '0101', '0010', '0100', '0010', '0000', '0000', '0011', '0110', '0101', '1010', '1011', '1101', '1100', '0111', '1110', '0100', '0110', '1101', '0001', '1110', '0010', '0001', '1010', '1010', '0011', '1000', '0010', '0000', '1010', '1101', '1111', '1000', '1000', '0010', '1010', '0101', '0101', '1101', '0110', '1001', '1100', '1100', '1000', '1010', '0011', '0101', '0101', '0011', '0001', '1010', '0011', '0011', '1101', '1010', '0101', '0011', '1011', '0101', '0000', '1111', '1001', '0101', '1100', '0011', '1111', '1101', '0001', '1111', '1110', '1111', '0001', '0010', '0110', '0100', '0101', '1100', '1110', '1001']\n",
    "\n",
    "With corresponding output from `threshold_values`,\n",
    "\n",
    "    >>> threshold_values(seq,3)\n",
    "    {'0000': 0, '0001': 0, '0010': 0, '0011': 1, '0100': 0, '0101': 1, '0110': 0, '0111': 0, '1000': 0, '1001': 0, '1010': 1, '1011': 0, '1100': 0, '1101': 0, '1110': 0, '1111': 0}\n"
   ]
  },
  {
   "cell_type": "code",
   "execution_count": 5,
   "metadata": {
    "deletable": false,
    "nbgrader": {
     "checksum": "6d021206024ca63bd57700868700983e",
     "grade": false,
     "grade_id": "cell-38a17a75141a6716",
     "locked": false,
     "schema_version": 1,
     "solution": true
    }
   },
   "outputs": [
    {
     "data": {
      "text/plain": [
       "{'0101': 1,\n",
       " '0011': 1,\n",
       " '1010': 1,\n",
       " '0110': 0,\n",
       " '1101': 0,\n",
       " '1111': 0,\n",
       " '1100': 0,\n",
       " '1001': 0,\n",
       " '1110': 0,\n",
       " '0111': 0,\n",
       " '1011': 0,\n",
       " '1000': 0,\n",
       " '0000': 0,\n",
       " '0001': 0,\n",
       " '0010': 0,\n",
       " '0100': 0}"
      ]
     },
     "execution_count": 5,
     "metadata": {},
     "output_type": "execute_result"
    }
   ],
   "source": [
    "def threshold_values(seq,threshold=1):\n",
    "    '''\n",
    "    Given a list of bitstrings, generate a gathered_value dictionary of those bitstrings \n",
    "    with the two highest frequency counts of the 1 value.\n",
    "    \n",
    "    :param: seq \n",
    "    :type : list\n",
    "    :param: threshold \n",
    "    :type : int\n",
    "    '''\n",
    "    assert isinstance(seq,list)\n",
    "    assert all(isinstance(x,str) for x in seq)\n",
    "    assert isinstance(threshold,int)\n",
    "    \n",
    "    nbits = len(seq[0])\n",
    "    bitstrings = [\"\".join(s) for s in itertools.product(\"01\", repeat=nbits)]\n",
    "    \n",
    "    assert set(seq).issubset(set(bitstrings))\n",
    "    assert threshold>0 and threshold<=math.pow(2,nbits)\n",
    "    \n",
    "    map_tally = gather_values(seq)\n",
    "    #print(map_tally)\n",
    "    \n",
    "    for k in map_tally.keys():\n",
    "        map_tally[k] = map_tally.get(k).count(1)\n",
    "    #print(map_tally)\n",
    "    \n",
    "    map_dict = dict(sorted(map_tally.items(), key=lambda x:x[1], reverse=True))\n",
    "    #print(map_dict)\n",
    "    \n",
    "    for k in map_dict.keys():\n",
    "        threshold -= 1\n",
    "        if map_dict[k]!=0:\n",
    "            if threshold>=0:\n",
    "                map_dict[k] = 1\n",
    "            else:\n",
    "                map_dict[k] = 0\n",
    "    \n",
    "    return map_dict\n",
    "    \n",
    "    \n",
    "#x=['10', '11', '01', '10', '10', '00', '00', '11', '10', '00', '00', '01', '01', '11', '10', '00', '11', '10', '11', '11']\n",
    "#threshold_values(x,1)\n",
    "\n",
    "x= ['1111', '0110', '1001', '0011', '0111', '0100', '0111', '1100', '0011', '0010', '0010', '1010', '1010', '1100', '0110', '0101', '0110', '1111', '1001', '0110', '0010', '1101', '0101', '0010', '0100', '0010', '0000', '0000', '0011', '0110', '0101', '1010', '1011', '1101', '1100', '0111', '1110', '0100', '0110', '1101', '0001', '1110', '0010', '0001', '1010', '1010', '0011', '1000', '0010', '0000', '1010', '1101', '1111', '1000', '1000', '0010', '1010', '0101', '0101', '1101', '0110', '1001', '1100', '1100', '1000', '1010', '0011', '0101', '0101', '0011', '0001', '1010', '0011', '0011', '1101', '1010', '0101', '0011', '1011', '0101', '0000', '1111', '1001', '0101', '1100', '0011', '1111', '1101', '0001', '1111', '1110', '1111', '0001', '0010', '0110', '0100', '0101', '1100', '1110', '1001']\n",
    "threshold_values(x,3)\n",
    "#ds=dict(sorted(d.items(),key=lambda x:x[0]))\n",
    "\n",
    "#x=['0','0','0','0','0','0','0']\n",
    "#threshold_values(x,2)"
   ]
  },
  {
   "cell_type": "code",
   "execution_count": null,
   "metadata": {
    "deletable": false,
    "editable": false,
    "nbgrader": {
     "checksum": "df26ef7a8d65712864f2b76489ba01b8",
     "grade": true,
     "grade_id": "cell-0e5cc812d42ae573",
     "locked": true,
     "points": 20,
     "schema_version": 1,
     "solution": false
    }
   },
   "outputs": [],
   "source": []
  }
 ],
 "metadata": {
  "kernelspec": {
   "display_name": "Python 3",
   "language": "python",
   "name": "python3"
  },
  "language_info": {
   "codemirror_mode": {
    "name": "ipython",
    "version": 3
   },
   "file_extension": ".py",
   "mimetype": "text/x-python",
   "name": "python",
   "nbconvert_exporter": "python",
   "pygments_lexer": "ipython3",
   "version": "3.6.3"
  }
 },
 "nbformat": 4,
 "nbformat_minor": 2
}
