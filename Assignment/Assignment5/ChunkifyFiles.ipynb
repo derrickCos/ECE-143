{
 "cells": [
  {
   "cell_type": "markdown",
   "metadata": {
    "deletable": false,
    "editable": false,
    "nbgrader": {
     "checksum": "1b365c3c9ad2f7b951d86f5c42576ddd",
     "grade": false,
     "grade_id": "cell-199e5532d234eea3",
     "locked": true,
     "schema_version": 1,
     "solution": false
    }
   },
   "source": [
    "You have a file that needs to be divided into `n` chunks. While it would be straightforward to split the file into equal-bytes sizes and then write those chunks to file, you cannot write any incomplete lines to the files. This means that all of the `n` files that you create must have **no truncated lines**. If a split of a certain byte-size would result in a truncated line, then you can back off and only write the previous complete line. You can save the rest of it for the next chunk.\n",
    "\n",
    "You can download [Metamorphosis, by Franz Kafka](https://storage.googleapis.com/class-notes-181217.appspot.com/pg5200.txt) as the sample text. The file is of size 139055 bytes. Splitting into three pieces gives the following files and their respective sizes:\n",
    "\n",
    "   |size | filename         |\n",
    "   |-----| -----------------| \n",
    "|46310|pg5200.txt_00.txt|\n",
    "|46334|pg5200.txt_01.txt|\n",
    "|46411|pg5200.txt_02.txt|\n",
    "\n",
    "\n",
    "The last line of the `pg5200.txt_00.txt` is the following:\n",
    "\n",
    "    her, she hurried out again and even turned the key in the lock so\n",
    "    \n",
    "The last line of the `pg5200.txt_01.txt` is the following:\n",
    "\n",
    "    there.  He, fortunately, would usually see no more than the object\n",
    "    \n",
    "As a final hint, splitting the same file into eight parts gives the following:\n",
    "\n",
    "\n",
    "|size | filename       |\n",
    "|-----|----------------|\n",
    "|17321|pg5200.txt_00.txt|\n",
    "|17376|pg5200.txt_01.txt|\n",
    "|17409|pg5200.txt_02.txt|\n",
    "|17354|pg5200.txt_03.txt|\n",
    "|17445|pg5200.txt_04.txt|\n",
    "|17332|pg5200.txt_05.txt|\n",
    "|17381|pg5200.txt_06.txt|\n",
    "|17437|pg5200.txt_07.txt|\n",
    "\n",
    "\n",
    "You should think about making your file sizes as uniform as possible. Otherwise, for a very long file, the last file may be inordinately large, as compared to the others. Your algorithm should pass through the file exactly once. If possible, you also want to minimize how much you move the file pointer around in the file.   You should ensure that your code produces the file sizes that are indicated for each of the cases shown above.\n",
    "\n",
    "* Hint: Use ``wb`` as the file write mode."
   ]
  },
  {
   "cell_type": "code",
   "execution_count": 1,
   "metadata": {
    "deletable": false,
    "nbgrader": {
     "checksum": "687f8ebd1cd724f3b8f6e0e9a5dfb356",
     "grade": false,
     "grade_id": "cell-1b04c4da4a984816",
     "locked": false,
     "schema_version": 1,
     "solution": true
    }
   },
   "outputs": [
    {
     "name": "stdout",
     "output_type": "stream",
     "text": [
      "46310\n",
      "46334\n",
      "46411\n"
     ]
    }
   ],
   "source": [
    "import numpy as np,math\n",
    "def split_by_n(fname,n=3):\n",
    "    '''\n",
    "    A fuction split a file into n chuncks. The end of each chunck has a complete line. \n",
    "    :param: fname (input file name)\n",
    "    :type : str\n",
    "    :param: n (# of chunks splitted into)\n",
    "    :type : int\n",
    "    '''\n",
    "    assert isinstance(n,int)\n",
    "    assert isinstance(fname,str)\n",
    "    assert fname[-4:] == '.txt'\n",
    "    assert n>=1\n",
    "    \n",
    "    lines=[]\n",
    "    lengths=[]\n",
    "\n",
    "    with open(fname) as f:\n",
    "        for line in f:\n",
    "            lines.append(line)\n",
    "            lengths.append(len(line))\n",
    "\n",
    "    cumlengths = np.cumsum(lengths)\n",
    "    totalsize = cumlengths[-1]\n",
    "    chunksize = math.ceil(totalsize/n) \n",
    "    starts = np.searchsorted(cumlengths,range(0,(n+1)*chunksize,chunksize))  \n",
    "\n",
    "    for k in range(n):\n",
    "        with open(fname+ '_' + str(k+1) + '.txt','w') as f:\n",
    "            s=slice(starts[k],starts[k+1])\n",
    "            f.writelines(lines[s])\n",
    "            #print(np.sum(lengths[s]))\n",
    "    \n",
    "    return\n",
    "    \n",
    "    \n",
    "split_by_n('pg5200.txt',n=3)"
   ]
  },
  {
   "cell_type": "code",
   "execution_count": null,
   "metadata": {
    "deletable": false,
    "editable": false,
    "nbgrader": {
     "checksum": "0d7223cb1f582dcc5950e499b4ed05fc",
     "grade": true,
     "grade_id": "cell-74bf10dbbf8458a2",
     "locked": true,
     "points": 30,
     "schema_version": 1,
     "solution": false
    }
   },
   "outputs": [],
   "source": []
  },
  {
   "cell_type": "code",
   "execution_count": null,
   "metadata": {},
   "outputs": [],
   "source": []
  }
 ],
 "metadata": {
  "kernelspec": {
   "display_name": "Python 3",
   "language": "python",
   "name": "python3"
  },
  "language_info": {
   "codemirror_mode": {
    "name": "ipython",
    "version": 3
   },
   "file_extension": ".py",
   "mimetype": "text/x-python",
   "name": "python",
   "nbconvert_exporter": "python",
   "pygments_lexer": "ipython3",
   "version": "3.6.3"
  }
 },
 "nbformat": 4,
 "nbformat_minor": 2
}
