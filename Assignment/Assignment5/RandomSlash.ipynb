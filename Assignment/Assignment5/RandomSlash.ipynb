{
 "cells": [
  {
   "cell_type": "markdown",
   "metadata": {
    "deletable": false,
    "editable": false,
    "nbgrader": {
     "checksum": "1fb7b835c29da24a0eb3b8727b7a5799",
     "grade": false,
     "grade_id": "cell-57a2f2b90ed53359",
     "locked": true,
     "schema_version": 1,
     "solution": false
    }
   },
   "source": [
    "## Random Image Slash\n",
    "\n",
    "A 6x6 black-and-white image is represented as a Numpy array `x` as in the following,\n",
    "\n",
    "    >>> import numpy as np\n",
    "    >>> x = np.eye(6)\n",
    "\n",
    "Note that this is not a grayscale or color image for which there would be three dimensions (e.g., 6 x 6 x 3). This can easily be visualized using Matplotlib's `imshow` function, as in the following:\n",
    "\n",
    "    >>> from matplotlib.pylab import subplots, cm\n",
    "    >>> fig, ax = subplots()\n",
    "    >>> ax.imshow(x,cmap=cm.gray_r)\n",
    "    \n",
    "<img src=\"./RandomSlash_image_001.png\" alt=\"drawing\" width=\"300px\"/>\n",
    "\n",
    "To debug an image processing algorithm, you have to generate a large number of exemplar training images that consist of such Numpy arrays. Each image should represent a forward or backward leaning slash symbol. Each symbol must consist of at least two non-zero pixels. For example, the longest possible slash symbol that is representable in a 6x6 image is the 6 nonzero pixel diagonal image show above (or its opposite leaning forwardslash variant).\n",
    "\n",
    "The assignment is to write a function that can produce a uniformly random forward or backslashed image (i.e., Numpy array) of at least two non-zero pixels.  Here is some code that generates the following figure,\n",
    "\n",
    "    fig,axs=subplots(3,3,sharex=True,sharey=True)\n",
    "    for ax in axs.flatten():\n",
    "        ax.imshow(gen_rand_slash(),cmap=cm.gray_r)\n",
    "\n",
    "<img src=\"./RandomSlash_image_002.png\" alt=\"drawing\" width=\"300px\"/>\n",
    "\n",
    "Here is the function signature: `gen_rand_slash(m=6,n=6,direction='back')`. The `direction` keyword argument can be either `back` or `forward`."
   ]
  },
  {
   "cell_type": "code",
   "execution_count": 31,
   "metadata": {
    "deletable": false,
    "nbgrader": {
     "checksum": "3d2f29cfef0f65cf9bdee83079d571d1",
     "grade": false,
     "grade_id": "cell-fb84ee7ce5838f43",
     "locked": false,
     "schema_version": 1,
     "solution": true
    }
   },
   "outputs": [
    {
     "data": {
      "image/png": "[encoded data removed]",
      "text/plain": [
       "<matplotlib.figure.Figure at 0x7f71f7bbe7f0>"
      ]
     },
     "metadata": {},
     "output_type": "display_data"
    }
   ],
   "source": [
    "import numpy as np\n",
    "from matplotlib.pylab import subplots, cm\n",
    "import random\n",
    "def gen_rand_slash(m=6,n=6,direction='back'):\n",
    "    '''\n",
    "    this function generates an ndarray containing a back or forward slash (1's) with all other 0's according to requirements\n",
    "    :param: m (length of the row) \n",
    "    :type : int\n",
    "    :param: n (length of the column) \n",
    "    :type : int\n",
    "    :param: direction ('back' or 'forward' slash)\n",
    "    :type: str\n",
    "    '''\n",
    "    assert isinstance(m,int)\n",
    "    assert isinstance(n,int)\n",
    "    assert m>=2\n",
    "    assert n>=2\n",
    "    assert direction=='back' or direction=='forward'\n",
    "    \n",
    "    # length of non-zero pixels\n",
    "    max_len = min(m,n)\n",
    "    len_array = random.choice(range(2,max_len+1))\n",
    "    \n",
    "    array = np.zeros([m,n])\n",
    "    \n",
    "    if direction=='back':\n",
    "        # start position\n",
    "        r_pos = random.choice(range(m-len_array+1))\n",
    "        c_pos = random.choice(range(n-len_array+1))\n",
    "        for i in range(len_array):\n",
    "            array[r_pos][c_pos] = 1\n",
    "            r_pos += 1\n",
    "            c_pos += 1\n",
    "    else:\n",
    "        # start position\n",
    "        r_pos = random.choice(range(m-len_array+1))\n",
    "        c_pos = random.choice(range(len_array-1,n))\n",
    "        for i in range(len_array):\n",
    "            array[r_pos][c_pos] = 1\n",
    "            r_pos += 1\n",
    "            c_pos -= 1        \n",
    "    \n",
    "    return array\n",
    "\n",
    "\n",
    "fig,axs=subplots(3,3,sharex=True,sharey=True)\n",
    "for ax in axs.flatten():\n",
    "    ax.imshow(gen_rand_slash(m=6,n=5,direction='forward'),cmap=cm.gray_r)"
   ]
  },
  {
   "cell_type": "code",
   "execution_count": 29,
   "metadata": {
    "deletable": false,
    "editable": false,
    "nbgrader": {
     "checksum": "cf4cecbf06cee9df833a011abe907453",
     "grade": true,
     "grade_id": "cell-ab7e39f31b6aa396",
     "locked": true,
     "points": 30,
     "schema_version": 1,
     "solution": false
    }
   },
   "outputs": [],
   "source": [
    "assert gen_rand_slash(3,2).sum().sum()>=2\n",
    "assert gen_rand_slash(3,2,direction='forward').sum().sum()>=2"
   ]
  },
  {
   "cell_type": "code",
   "execution_count": 30,
   "metadata": {
    "deletable": false,
    "editable": false,
    "nbgrader": {
     "checksum": "2bbccf9f5ae45c321cc2012e768798fa",
     "grade": true,
     "grade_id": "cell-7d26a546653b4fb4",
     "locked": true,
     "points": 5,
     "schema_version": 1,
     "solution": false
    }
   },
   "outputs": [],
   "source": [
    "assert gen_rand_slash.__doc__ is not None"
   ]
  }
 ],
 "metadata": {
  "kernelspec": {
   "display_name": "Python 3",
   "language": "python",
   "name": "python3"
  },
  "language_info": {
   "codemirror_mode": {
    "name": "ipython",
    "version": 3
   },
   "file_extension": ".py",
   "mimetype": "text/x-python",
   "name": "python",
   "nbconvert_exporter": "python",
   "pygments_lexer": "ipython3",
   "version": "3.6.3"
  }
 },
 "nbformat": 4,
 "nbformat_minor": 2
}
