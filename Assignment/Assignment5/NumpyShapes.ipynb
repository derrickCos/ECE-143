{
 "cells": [
  {
   "cell_type": "markdown",
   "metadata": {
    "deletable": false,
    "editable": false,
    "nbgrader": {
     "checksum": "62beaf6d6d0cd2a208f0bb7de86efc66",
     "grade": false,
     "grade_id": "cell-bd81112e52abc295",
     "locked": true,
     "schema_version": 1,
     "solution": false
    }
   },
   "source": [
    "Create the following Numpy array of 32-bit integers\n",
    "\n",
    "    array([[1, 1, 1, 1, 1],\n",
    "           [0, 1, 1, 1, 1],\n",
    "           [0, 0, 1, 1, 1],\n",
    "           [0, 0, 0, 1, 1],\n",
    "           [0, 0, 0, 0, 1]])\n",
    "\n"
   ]
  },
  {
   "cell_type": "code",
   "execution_count": 1,
   "metadata": {
    "deletable": false,
    "nbgrader": {
     "checksum": "8d2f7e187b5f003eb8ed88845b333497",
     "grade": false,
     "grade_id": "cell-94cacab104944044",
     "locked": false,
     "schema_version": 1,
     "solution": true
    }
   },
   "outputs": [],
   "source": [
    "import numpy as np\n",
    "matrix = np.ones([5,5],np.int32)\n",
    "answer = np.triu(matrix,k=0)"
   ]
  },
  {
   "cell_type": "code",
   "execution_count": null,
   "metadata": {
    "deletable": false,
    "editable": false,
    "nbgrader": {
     "checksum": "6c0cf417047a7997a3e8d36bc9f5addd",
     "grade": true,
     "grade_id": "cell-f5240ec7a28babb1",
     "locked": true,
     "points": 5,
     "schema_version": 1,
     "solution": false
    }
   },
   "outputs": [],
   "source": []
  },
  {
   "cell_type": "markdown",
   "metadata": {
    "deletable": false,
    "editable": false,
    "nbgrader": {
     "checksum": "0a769cdf7b0825e4c6f3a34b6fd2b5ec",
     "grade": false,
     "grade_id": "cell-d60f4cd711a69712",
     "locked": true,
     "schema_version": 1,
     "solution": false
    }
   },
   "source": [
    "Create the following Numpy array of 16-bit integers\n",
    "\n",
    "    array([[ 1,  2,  3,  4,  5],\n",
    "           [ 0,  6,  7,  8,  9],\n",
    "           [ 0,  0, 10, 11, 12],\n",
    "           [ 0,  0,  0, 13, 14],\n",
    "           [ 0,  0,  0,  0, 15]])"
   ]
  },
  {
   "cell_type": "code",
   "execution_count": 2,
   "metadata": {
    "deletable": false,
    "nbgrader": {
     "checksum": "5c9acc95d96f1e41d2c86d35d233ebed",
     "grade": false,
     "grade_id": "cell-b0a551813e63df84",
     "locked": false,
     "schema_version": 1,
     "solution": true
    }
   },
   "outputs": [],
   "source": [
    "import numpy as np\n",
    "matrix = np.zeros(25, np.int16).reshape(5,5)\n",
    "iu1 = np.triu_indices(5)\n",
    "matrix[iu1] = np.arange(1,16)\n",
    "\n",
    "answer = matrix"
   ]
  },
  {
   "cell_type": "code",
   "execution_count": null,
   "metadata": {
    "deletable": false,
    "editable": false,
    "nbgrader": {
     "checksum": "561e899fd60682dee5ba40c1354b7821",
     "grade": true,
     "grade_id": "cell-5c637c90db82c262",
     "locked": true,
     "points": 10,
     "schema_version": 1,
     "solution": false
    }
   },
   "outputs": [],
   "source": []
  },
  {
   "cell_type": "markdown",
   "metadata": {
    "deletable": false,
    "editable": false,
    "nbgrader": {
     "checksum": "27abb1106756b0e8d1f7ba2114e7ac29",
     "grade": false,
     "grade_id": "cell-32d5e6046038c92c",
     "locked": true,
     "schema_version": 1,
     "solution": false
    }
   },
   "source": [
    "Given the following two-dimensional array, set the diagonal element to the average of the columns in each respective row not counting the diagonal element in each row. Note that the diagonal element itself is not part of the calculation. It is just a placeholder for the result.\n",
    "\n",
    "    [[0,   3, 14, 13, 12],\n",
    "     [13,  0,  8,  5, 11],\n",
    "     [11, 11,  0, 12, 10],\n",
    "     [11, 12,  1,  0, 10],\n",
    "     [13, 12, 11,  4,  0]]\n",
    "     \n",
    "In this case, your answer should look like the following\n",
    "\n",
    "    [[ 10.5 ,   3.  ,  14.  ,  13.  ,  12.  ],\n",
    "     [ 13.  ,   9.25,   8.  ,   5.  ,  11.  ],\n",
    "     [ 11.  ,  11.  ,  11.  ,  12.  ,  10.  ],\n",
    "     [ 11.  ,  12.  ,   1.  ,   8.5 ,  10.  ],\n",
    "     [ 13.  ,  12.  ,  11.  ,   4.  ,  10.  ]]\n",
    "\n",
    "In the general case, the diagonal elements won't necessarily be equal to zero like they are here!"
   ]
  },
  {
   "cell_type": "code",
   "execution_count": 3,
   "metadata": {
    "deletable": false,
    "nbgrader": {
     "checksum": "04317690a06873cce73ce4ecdcc6efe1",
     "grade": false,
     "grade_id": "cell-5aeb040b3758ef9d",
     "locked": false,
     "schema_version": 1,
     "solution": true
    }
   },
   "outputs": [
    {
     "data": {
      "text/plain": [
       "array([[ 10.5 ,   3.  ,  14.  ,  13.  ,  12.  ],\n",
       "       [ 13.  ,   9.25,   8.  ,   5.  ,  11.  ],\n",
       "       [ 11.  ,  11.  ,  11.  ,  12.  ,  10.  ],\n",
       "       [ 11.  ,  12.  ,   1.  ,   8.5 ,  10.  ],\n",
       "       [ 13.  ,  12.  ,  11.  ,   4.  ,  10.  ]])"
      ]
     },
     "execution_count": 3,
     "metadata": {},
     "output_type": "execute_result"
    }
   ],
   "source": [
    "def average_into_diagonal(x):\n",
    "    '''\n",
    "    return average of non-diagonal elements with values filled into the diagonal\n",
    "    \n",
    "    :param: x (square two-dimensional input array)\n",
    "    :type: numpy array\n",
    "    :returns: numpy array\n",
    "\n",
    "    '''\n",
    "    assert isinstance(x,np.ndarray)\n",
    "    assert x.ndim == 2\n",
    "    assert x.shape[0] == x.shape[1] # square arrays only\n",
    "    \n",
    "    x = x.astype(float)\n",
    "    len = x.shape[0]\n",
    "    for i in range(len):\n",
    "        x[i,i] = 0\n",
    "        x[i,i] = 1.0*np.sum(x[i,:])/(len-1)\n",
    "        \n",
    "    return x\n",
    "    \n",
    "\n",
    "x = np.array([[10,   3, 14, 13, 12],\n",
    " [13,  10,  8,  5, 11],\n",
    " [11, 11,  10, 12, 10],\n",
    " [11, 12,  1,  10, 10],\n",
    " [13, 12, 11,  4,  10]])\n",
    "average_into_diagonal(x)"
   ]
  },
  {
   "cell_type": "code",
   "execution_count": null,
   "metadata": {
    "deletable": false,
    "editable": false,
    "nbgrader": {
     "checksum": "95d6ad7547a3183af5b49a2cbc96eeb3",
     "grade": true,
     "grade_id": "cell-8d3cda682ab2ce13",
     "locked": true,
     "points": 30,
     "schema_version": 1,
     "solution": false
    }
   },
   "outputs": [],
   "source": []
  }
 ],
 "metadata": {
  "kernelspec": {
   "display_name": "Python 3",
   "language": "python",
   "name": "python3"
  },
  "language_info": {
   "codemirror_mode": {
    "name": "ipython",
    "version": 3
   },
   "file_extension": ".py",
   "mimetype": "text/x-python",
   "name": "python",
   "nbconvert_exporter": "python",
   "pygments_lexer": "ipython3",
   "version": "3.6.3"
  }
 },
 "nbformat": 4,
 "nbformat_minor": 2
}
