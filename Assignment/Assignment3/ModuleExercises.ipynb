{
 "cells": [
  {
   "cell_type": "markdown",
   "metadata": {},
   "source": [
    "- Write a function that returns the number of calendar days in a given year and month. Hint: see the `calendar` module in the standard library. \n",
    "- Find the number of leap-years between 1900 and 2018.\n",
    "- Find the string name (e.g., Monday, Tuesday) of the day of the week on a given month,day, and year.\n",
    "\n",
    "Note that Sunday starts the week for this exercise (not the default!)."
   ]
  },
  {
   "cell_type": "code",
   "execution_count": 1,
   "metadata": {},
   "outputs": [],
   "source": [
    "import calendar"
   ]
  },
  {
   "cell_type": "code",
   "execution_count": 2,
   "metadata": {
    "deletable": false,
    "nbgrader": {
     "checksum": "e607de119f211b5ad965c8fc3a1fd7f9",
     "grade": false,
     "grade_id": "cell-7dd16d718ddb136e",
     "locked": false,
     "schema_version": 1,
     "solution": true
    }
   },
   "outputs": [
    {
     "data": {
      "text/plain": [
       "30"
      ]
     },
     "execution_count": 2,
     "metadata": {},
     "output_type": "execute_result"
    }
   ],
   "source": [
    "def number_of_days(year,month):\n",
    "    \"\"\"\n",
    "    returns the number of calendar days in a given year and month\n",
    "    :year: integer\n",
    "    :month: integer\n",
    "    \"\"\"\n",
    "    assert isinstance(year,int) and isinstance(month,int) \n",
    "    assert (1<=month<=12) and (year>0)\n",
    "    \n",
    "    return calendar.monthrange(year,month)[1]\n",
    "    \n",
    "\n",
    "number_of_days(2018,11)"
   ]
  },
  {
   "cell_type": "code",
   "execution_count": null,
   "metadata": {
    "deletable": false,
    "editable": false,
    "nbgrader": {
     "checksum": "50afb0c6cd42b823ffcf40c4bad072c7",
     "grade": true,
     "grade_id": "cell-1fbd52389266e90d",
     "locked": true,
     "points": 5,
     "schema_version": 1,
     "solution": false
    }
   },
   "outputs": [],
   "source": []
  },
  {
   "cell_type": "code",
   "execution_count": 3,
   "metadata": {
    "deletable": false,
    "nbgrader": {
     "checksum": "6ce8dd66cc27ea75713a86a9996c3fd5",
     "grade": false,
     "grade_id": "cell-a5b37b027e4b5adb",
     "locked": false,
     "schema_version": 1,
     "solution": true
    }
   },
   "outputs": [
    {
     "data": {
      "text/plain": [
       "29"
      ]
     },
     "execution_count": 3,
     "metadata": {},
     "output_type": "execute_result"
    }
   ],
   "source": [
    "def number_of_leap_years():\n",
    "    \"\"\"\n",
    "    returns the number of leap-years between 1900 and 2018(exclusive)\n",
    "    \"\"\"\n",
    "    return calendar.leapdays(1900,2018)\n",
    "\n",
    "\n",
    "number_of_leap_years()"
   ]
  },
  {
   "cell_type": "code",
   "execution_count": null,
   "metadata": {
    "deletable": false,
    "editable": false,
    "nbgrader": {
     "checksum": "c58b92de49240a0dc73a33a68c127574",
     "grade": true,
     "grade_id": "cell-fd6c3046afd6c15f",
     "locked": true,
     "points": 5,
     "schema_version": 1,
     "solution": false
    }
   },
   "outputs": [],
   "source": []
  },
  {
   "cell_type": "code",
   "execution_count": null,
   "metadata": {
    "deletable": false,
    "editable": false,
    "nbgrader": {
     "checksum": "1255ecba11eba874ab24698c1cbcd1b9",
     "grade": true,
     "grade_id": "cell-fd2514ce04ae3841",
     "locked": true,
     "points": 5,
     "schema_version": 1,
     "solution": false
    }
   },
   "outputs": [],
   "source": []
  },
  {
   "cell_type": "code",
   "execution_count": 4,
   "metadata": {
    "deletable": false,
    "nbgrader": {
     "checksum": "f0ad6b6b7cd3d389c35cbea105914fcb",
     "grade": false,
     "grade_id": "cell-1ce522f94cb33866",
     "locked": false,
     "schema_version": 1,
     "solution": true
    }
   },
   "outputs": [
    {
     "data": {
      "text/plain": [
       "'Friday'"
      ]
     },
     "execution_count": 4,
     "metadata": {},
     "output_type": "execute_result"
    }
   ],
   "source": [
    "def get_day_of_week(year,month,day):\n",
    "    \"\"\"\n",
    "    returns the string name (e.g., Monday, Tuesday) of the day of the week on a given month,day, and year\n",
    "    :year: integer\n",
    "    :month: integer\n",
    "    :day: integer\n",
    "    \"\"\"\n",
    "    assert isinstance(year,int) and isinstance(month,int)  and isinstance(day,int)\n",
    "    assert (1<=month<=12) and (year>0) and 1<=day<=31\n",
    "    \n",
    "    days = number_of_days(year,month)\n",
    "    assert day<=days\n",
    "    \n",
    "    return calendar.day_name[calendar.weekday(year,month,day)]\n",
    "    \n",
    "\n",
    "get_day_of_week(2018,11,30)"
   ]
  },
  {
   "cell_type": "code",
   "execution_count": null,
   "metadata": {
    "deletable": false,
    "editable": false,
    "nbgrader": {
     "checksum": "b609710bf93d15127ac9a4de57b08781",
     "grade": true,
     "grade_id": "cell-f6db68d457c60d81",
     "locked": true,
     "points": 10,
     "schema_version": 1,
     "solution": false
    }
   },
   "outputs": [],
   "source": []
  }
 ],
 "metadata": {
  "kernelspec": {
   "display_name": "Python 3",
   "language": "python",
   "name": "python3"
  },
  "language_info": {
   "codemirror_mode": {
    "name": "ipython",
    "version": 3
   },
   "file_extension": ".py",
   "mimetype": "text/x-python",
   "name": "python",
   "nbconvert_exporter": "python",
   "pygments_lexer": "ipython3",
   "version": "3.6.3"
  }
 },
 "nbformat": 4,
 "nbformat_minor": 2
}
