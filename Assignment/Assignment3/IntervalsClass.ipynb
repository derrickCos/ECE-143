{
 "cells": [
  {
   "cell_type": "markdown",
   "metadata": {
    "deletable": false,
    "editable": false,
    "nbgrader": {
     "checksum": "2f8154d3a8e5b6787fd080a92849d6dc",
     "grade": false,
     "grade_id": "cell-51b6769d195c4fa8",
     "locked": true,
     "schema_version": 1,
     "solution": false
    }
   },
   "source": [
    "## Problem: Interval arithmetic"
   ]
  },
  {
   "cell_type": "markdown",
   "metadata": {
    "deletable": false,
    "editable": false,
    "nbgrader": {
     "checksum": "9e22ebc55c1d9741393a2d54caa0d93f",
     "grade": false,
     "grade_id": "cell-03dd1d9ed4418280",
     "locked": true,
     "schema_version": 1,
     "solution": false
    }
   },
   "source": [
    "Using Python object oriented programming, write a class called `Interval` that represents a one-dimensional open interval on the real line. This main purpose of this class is to simplify overlapping continuous intervals. The code below should get you started but there are a lot of missing pieces that you will have to figure out.\n",
    "\n",
    "The API should take a pair of integers as input and respond to the `+` operator such that\n",
    "\n",
    "    >>> a = Interval(1,3)\n",
    "    >>> b = Interval(2,4)\n",
    "    >>> c = Interval(5,10)\n",
    "    >>> a + b \n",
    "    Interval(1,4)\n",
    "    >>> b+c\n",
    "    [ Interval(2,4), Interval(5,10)]\n",
    "    \n",
    "* Note that in the case of non-overlapping intervals, the output should be a list of constituent `Intervals`. Keep in mind that these are **open** intervals. Specifically,\n",
    "\n",
    "      >>> Interval(2,3)+Interval(1,2)\n",
    "      [Interval(2,3), Interval(1,2)]\n",
    "    \n",
    "* Note that these do not produce a single interval because each interval is open (not closed). The interval endpoints can be negative also (e.g., `Interval(-10,-3)` is valid). The output **does not** have to be sorted.\n",
    "\n",
    "* Note that you have to fill in all the functions listed (i.e., remove the `pass` and fill in your code).\n",
    "* It's up to you to decide what each of the dunder functions means for your object. For example, you have to decide what the ordering operations for your object will be in order to accomplish the required output. If you do this right, you will have a very general solution to this problem.\n",
    "\n",
    "**This is where good object-oriented design pays off**. "
   ]
  },
  {
   "cell_type": "code",
   "execution_count": 1,
   "metadata": {
    "deletable": false,
    "nbgrader": {
     "checksum": "49fb18b366036b2fdb4025aebb4b1db0",
     "grade": false,
     "grade_id": "cell-fe4fdb821048ea08",
     "locked": false,
     "schema_version": 1,
     "solution": true
    }
   },
   "outputs": [
    {
     "name": "stdout",
     "output_type": "stream",
     "text": [
      "[Interval(1,4)]\n",
      "[Interval(2,4), Interval(5,10)]\n",
      "[Interval(2,3), Interval(1,2)]\n"
     ]
    }
   ],
   "source": [
    "# fill out all the templated methods shown below\n",
    "\n",
    "class Interval(object):\n",
    "    def __init__(self,a,b):\n",
    "        \"\"\"\n",
    "        :a: integer\n",
    "        :b: integer\n",
    "        \"\"\"\n",
    "        assert a<b\n",
    "        assert isinstance(a,int)\n",
    "        assert isinstance(b,int)\n",
    "        self._a = a\n",
    "        self._b = b\n",
    "        \n",
    "    def __repr__(self):\n",
    "        \"\"\"\n",
    "        :self: Interval\n",
    "        \"\"\"\n",
    "        return \"[Interval({},{})]\".format(self._a,self._b)\n",
    "\n",
    "    def __eq__(self,other):\n",
    "        \"\"\"\n",
    "        :self: Interval\n",
    "        :other: Interval\n",
    "        \"\"\"\n",
    "        return self._a==other._a and self._b==other._b\n",
    "\n",
    "    def __lt__(self,other):\n",
    "        \"\"\"\n",
    "        :self: Interval\n",
    "        :other: Interval\n",
    "        \"\"\"\n",
    "        return self._b<other._a\n",
    "\n",
    "    def __gt__(self,other):\n",
    "        \"\"\"\n",
    "        :self: Interval\n",
    "        :other: Interval\n",
    "        \"\"\"\n",
    "        return self._a>other._b\n",
    "\n",
    "    def __ge__(self,other):\n",
    "        \"\"\"\n",
    "        :self: Interval\n",
    "        :other: Interval\n",
    "        \"\"\"\n",
    "        return self._a>=other._b\n",
    "\n",
    "    def __le__(self,other):\n",
    "        \"\"\"\n",
    "        :self: Interval\n",
    "        :other: Interval\n",
    "        \"\"\"\n",
    "        return self._b<=other._a\n",
    "\n",
    "    def __add__(self,other): \n",
    "        \"\"\"\n",
    "        :self: Interval\n",
    "        :other: Interval\n",
    "        \"\"\"\n",
    "        if self.intersected(other):\n",
    "            return \"[Interval({},{})]\".format(min(self._a,other._a),max(self._b,other._b))\n",
    "        else:\n",
    "            return \"[Interval({},{}), Interval({},{})]\".format(self._a,self._b,other._a,other._b)\n",
    "        \n",
    "    \n",
    "    def intersected(self,other):\n",
    "        \"\"\"\n",
    "        Find whether self intersects with other\n",
    "        :self: Interval\n",
    "        :other: Interval\n",
    "        \"\"\"\n",
    "        if other._a<=self._a:\n",
    "            if other._b>self._a:\n",
    "                return True\n",
    "            else:\n",
    "                return False\n",
    "        elif self._a<other._a and other._a<self._b:\n",
    "            return True\n",
    "        else:\n",
    "            return False\n",
    "        \n",
    "\n",
    "    \n",
    "a = Interval(1,3)\n",
    "b = Interval(2,4)\n",
    "c = Interval(5,10)\n",
    "print(a+b)\n",
    "print(b+c)\n",
    "print(Interval(2,3)+Interval(1,2))"
   ]
  },
  {
   "cell_type": "code",
   "execution_count": null,
   "metadata": {
    "deletable": false,
    "editable": false,
    "nbgrader": {
     "checksum": "79c224e607ef9b02275777e2bbc1a143",
     "grade": true,
     "grade_id": "cell-ce70b949c97e2b3e",
     "locked": true,
     "points": 40,
     "schema_version": 1,
     "solution": false
    }
   },
   "outputs": [],
   "source": []
  }
 ],
 "metadata": {
  "kernelspec": {
   "display_name": "Python 3",
   "language": "python",
   "name": "python3"
  },
  "language_info": {
   "codemirror_mode": {
    "name": "ipython",
    "version": 3
   },
   "file_extension": ".py",
   "mimetype": "text/x-python",
   "name": "python",
   "nbconvert_exporter": "python",
   "pygments_lexer": "ipython3",
   "version": "3.6.3"
  }
 },
 "nbformat": 4,
 "nbformat_minor": 2
}
