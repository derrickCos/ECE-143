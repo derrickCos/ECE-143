{
 "cells": [
  {
   "cell_type": "markdown",
   "metadata": {
    "deletable": false,
    "editable": false,
    "nbgrader": {
     "checksum": "df0e120c9d4ee42ae93c2f6cce304e26",
     "grade": false,
     "grade_id": "cell-5e90591f1ed9c3f6",
     "locked": true,
     "schema_version": 1,
     "solution": false
    }
   },
   "source": [
    "## Problem1: Weights and Powers of Three\n",
    "\n",
    "Given a set of weights `{1,3,9,27}`, write a function to construct any number\n",
    "between 1 and 40. In other words, using the set above and the addition and\n",
    "subtraction operations, construct any integer between 1 and 40 without re-using\n",
    "elements. For example, `4 = 1+1+1+1` is not acceptable.\n",
    "\n",
    "For example,\n",
    "\n",
    "    8 = 9 - 1\n",
    "\n",
    "    10 = 1 + 9\n",
    "\n",
    "Hint: see the `itertools` module. Your function should return a 4-element list of the\n",
    "decomposition. For example, your return value given input `10` should be\n",
    "`[1,0,1,0]` because `1*1 + 0*3 + 9*1 + 27*0=10`."
   ]
  },
  {
   "cell_type": "code",
   "execution_count": 1,
   "metadata": {
    "attributes": {
     "classes": [],
     "id": "",
     "n": "135"
    },
    "deletable": false,
    "nbgrader": {
     "checksum": "c0e2fb149400d50ecd5b3540a3bca8c9",
     "grade": false,
     "grade_id": "cell-82047b241641aab6",
     "locked": false,
     "schema_version": 1,
     "solution": true
    }
   },
   "outputs": [
    {
     "data": {
      "text/plain": [
       "(1, 0, 1, 0)"
      ]
     },
     "execution_count": 1,
     "metadata": {},
     "output_type": "execute_result"
    }
   ],
   "source": [
    "import itertools\n",
    "def get_power_of3(x):\n",
    "    '''    \n",
    "    Given a set of weights {1,3,9,27}, this function serves to construct any number between 1 and 40\n",
    "    :param: x \n",
    "    :type : int    \n",
    "    '''\n",
    "    assert isinstance(x,int)\n",
    "    assert x>=1 and x<=40\n",
    "    \n",
    "    w = [1,3,9,27]\n",
    "    for i in list(itertools.product(range(-1,2),repeat=4)):\n",
    "        sum = 0\n",
    "        \n",
    "        for j in range(4):\n",
    "            sum += i[j]*w[j]\n",
    "        \n",
    "        if sum==x:\n",
    "            return i\n",
    "        \n",
    "get_power_of3(10)"
   ]
  },
  {
   "cell_type": "code",
   "execution_count": null,
   "metadata": {
    "attributes": {
     "classes": [],
     "id": "",
     "n": "140"
    },
    "deletable": false,
    "editable": false,
    "nbgrader": {
     "checksum": "b1cc35acbce2b02c6999c396e03d1c40",
     "grade": true,
     "grade_id": "cell-a5ebbd1e29c90fa4",
     "locked": true,
     "points": 20,
     "schema_version": 1,
     "solution": false
    }
   },
   "outputs": [],
   "source": []
  },
  {
   "cell_type": "code",
   "execution_count": null,
   "metadata": {
    "deletable": false,
    "editable": false,
    "nbgrader": {
     "checksum": "22d757ef1b1ea8a2155aebaf11f3185b",
     "grade": true,
     "grade_id": "cell-98b8fc9c786d7aba",
     "locked": true,
     "points": 2,
     "schema_version": 1,
     "solution": false
    }
   },
   "outputs": [],
   "source": []
  },
  {
   "cell_type": "markdown",
   "metadata": {
    "deletable": false,
    "editable": false,
    "nbgrader": {
     "checksum": "938aab87fee24e697102a5e1e685ed94",
     "grade": false,
     "grade_id": "cell-a3ceda8ab72cf12a",
     "locked": true,
     "schema_version": 1,
     "solution": false
    }
   },
   "source": [
    "## Problem2:Generator for Infinite Fibonacci Sequences\n",
    "\n",
    "The Fibonacci numbers are defined by the following recursion:\n",
    "    $$ F_{n} = F_{n-1}+F_{n-2} $$\n",
    "with initial values . Using generators, write a function to compute the first `n` Fibonacci numbers. For example, for `n=10`, the output should be him`[1,1,2,3,5,8,13,21,34,55]`."
   ]
  },
  {
   "cell_type": "code",
   "execution_count": 2,
   "metadata": {
    "deletable": false,
    "nbgrader": {
     "checksum": "dc80aefed632ff28231b85168ec9178c",
     "grade": false,
     "grade_id": "cell-fa01ac975c9539bb",
     "locked": false,
     "schema_version": 1,
     "solution": true
    }
   },
   "outputs": [
    {
     "data": {
      "text/plain": [
       "[1, 1, 2, 3, 5]"
      ]
     },
     "execution_count": 2,
     "metadata": {},
     "output_type": "execute_result"
    }
   ],
   "source": [
    "def fibonacci(n):\n",
    "    '''  \n",
    "    Using generators, this function serves to compute the first n Fibonacci numbers\n",
    "    :param: n \n",
    "    :type : int    \n",
    "    '''\n",
    "    assert isinstance(n,int)\n",
    "    assert n>2\n",
    "    \n",
    "    return list(fib(n))\n",
    "    \n",
    "    \n",
    "def fib(n):\n",
    "    '''  \n",
    "    A Fibonacci generator\n",
    "    :param: n \n",
    "    :type : int    \n",
    "    '''    \n",
    "    a=b=1\n",
    "    for i in range(n):\n",
    "        yield a\n",
    "        a,b=b,a+b\n",
    "\n",
    "fibonacci(5)"
   ]
  },
  {
   "cell_type": "code",
   "execution_count": null,
   "metadata": {
    "deletable": false,
    "editable": false,
    "nbgrader": {
     "checksum": "0cd0beea98160bee9d02d1ef98a631f9",
     "grade": true,
     "grade_id": "cell-1f7b0f78ab2c7380",
     "locked": true,
     "points": 20,
     "schema_version": 1,
     "solution": false
    }
   },
   "outputs": [],
   "source": []
  },
  {
   "cell_type": "markdown",
   "metadata": {
    "deletable": false,
    "editable": false,
    "nbgrader": {
     "checksum": "0be7189207fd773708b6da6236bd9443",
     "grade": false,
     "grade_id": "cell-f2f4e78175326e16",
     "locked": true,
     "schema_version": 1,
     "solution": false
    }
   },
   "source": [
    "## Problem3: Sliding window\n",
    "\n",
    "Implement a sliding window for an arbitrary input list. The function should take\n",
    "the window width and the window increment as inputs and should produce a\n",
    "sequence of overlapping lists from the input list. For example, given\n",
    "`x=range(15)`, the following is the output given a window width of `5` and\n",
    "window increment of `2`.\n",
    "\n",
    "    [[0, 1, 2, 3, 4],\n",
    "     [2, 3, 4, 5, 6],\n",
    "     [4, 5, 6, 7, 8],\n",
    "     [6, 7, 8, 9, 10],\n",
    "     [8, 9, 10, 11, 12],\n",
    "     [10, 11, 12, 13, 14]]\n",
    "\n",
    "In the event that the input parameters do not yield a complete set of even\n",
    "sublists, just truncate the ragged tail. For example,\n",
    "\n",
    "    >>> slide_window(range(18),5,2)\n",
    "    [[0, 1, 2, 3, 4],\n",
    "     [2, 3, 4, 5, 6],\n",
    "     [4, 5, 6, 7, 8],\n",
    "     [6, 7, 8, 9, 10],\n",
    "     [8, 9, 10, 11, 12],\n",
    "     [10, 11, 12, 13, 14],\n",
    "     [12, 13, 14, 15, 16]]"
   ]
  },
  {
   "cell_type": "code",
   "execution_count": 3,
   "metadata": {
    "deletable": false,
    "nbgrader": {
     "checksum": "cbffaafad1f0c0d9b8b3c4fc6bf99ae1",
     "grade": false,
     "grade_id": "cell-3603dcae6bb1b15b",
     "locked": false,
     "schema_version": 1,
     "solution": true
    }
   },
   "outputs": [
    {
     "data": {
      "text/plain": [
       "[[0, 1, 2, 3, 4],\n",
       " [2, 3, 4, 5, 6],\n",
       " [4, 5, 6, 7, 8],\n",
       " [6, 7, 8, 9, 10],\n",
       " [8, 9, 10, 11, 12],\n",
       " [10, 11, 12, 13, 14],\n",
       " [12, 13, 14, 15, 16]]"
      ]
     },
     "execution_count": 3,
     "metadata": {},
     "output_type": "execute_result"
    }
   ],
   "source": [
    "import collections\n",
    "def slide_window(x,width,increment):\n",
    "    '''\n",
    "    a slide window generation function producing overlapping lists with given width and increment\n",
    "    :param: x \n",
    "    :type : iterable object\n",
    "    :param: width\n",
    "    :type : int\n",
    "    :param: increment \n",
    "    :type : int\n",
    "    '''\n",
    "    assert isinstance(x,collections.Iterable)\n",
    "    assert isinstance(width,int)\n",
    "    assert isinstance(increment,int)\n",
    "    assert width>0\n",
    "    assert increment>0\n",
    "    \n",
    "    l = list(x)\n",
    "    i = 0\n",
    "    w = []\n",
    "    while i+width<=len(l):\n",
    "        w.append(l[i:i+width])\n",
    "        i += increment\n",
    "        \n",
    "    return w\n",
    "    \n",
    "#slide_window([3,2,[1,2]],1,1)\n",
    "slide_window(range(18),5,2)"
   ]
  },
  {
   "cell_type": "code",
   "execution_count": null,
   "metadata": {
    "deletable": false,
    "editable": false,
    "nbgrader": {
     "checksum": "a64534f3a9d964bd89b5e433285b7d87",
     "grade": true,
     "grade_id": "cell-9284911be0bfe149",
     "locked": true,
     "points": 20,
     "schema_version": 1,
     "solution": false
    }
   },
   "outputs": [],
   "source": []
  },
  {
   "cell_type": "code",
   "execution_count": null,
   "metadata": {
    "deletable": false,
    "editable": false,
    "nbgrader": {
     "checksum": "c72998109d5f4efcd3d1ae0ef92a88d7",
     "grade": true,
     "grade_id": "cell-286ef6152f03d070",
     "locked": true,
     "points": 2,
     "schema_version": 1,
     "solution": false
    }
   },
   "outputs": [],
   "source": []
  }
 ],
 "metadata": {
  "kernelspec": {
   "display_name": "Python 3",
   "language": "python",
   "name": "python3"
  },
  "language_info": {
   "codemirror_mode": {
    "name": "ipython",
    "version": 3
   },
   "file_extension": ".py",
   "mimetype": "text/x-python",
   "name": "python",
   "nbconvert_exporter": "python",
   "pygments_lexer": "ipython3",
   "version": "3.6.3"
  }
 },
 "nbformat": 4,
 "nbformat_minor": 2
}
